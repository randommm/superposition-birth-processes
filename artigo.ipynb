{
 "cells": [
  {
   "cell_type": "markdown",
   "metadata": {},
   "source": [
    "## Yule model with melanoma data"
   ]
  },
  {
   "cell_type": "markdown",
   "metadata": {},
   "source": [
    "PDF of a censured observation $t$ is given by:\n",
    "\n",
    "              exp(\n",
    "               p * rho * (-exp(mu*t) + 1) * exp(lambda*t)\n",
    "               /\n",
    "               (-exp(lambda * t) + exp(t * (lambda + mu)) + 1)\n",
    "              )\n",
    "\n",
    "\n",
    "PDF of a non-censured observation $t$ is given by:\n",
    "\n",
    "              p * rho\n",
    "              *\n",
    "              (-lambda + mu*(exp(lambda*t) - 1) + (lambda + mu)*(-exp(lambda*t) + exp(t*(lambda + mu)) + 1))\n",
    "              *\n",
    "              exp(-p*rho*(exp(mu*t) - 1)*exp(lambda*t)/(-exp(lambda*t) + exp(t*(lambda + mu)) + 1))\n",
    "              /\n",
    "              (-exp(lambda*t) + exp(t*(lambda + mu)) + 1)**2\n",
    "\n",
    "With:\n",
    "\n",
    "              rho = exp(beta0)\n",
    "              p = inv_logit(beta1 * x)\n",
    "              lambda = exp(beta2 * x)"
   ]
  },
  {
   "cell_type": "markdown",
   "metadata": {},
   "source": [
    "### Bayesian Estimation"
   ]
  },
  {
   "cell_type": "code",
   "execution_count": 1,
   "metadata": {},
   "outputs": [
    {
     "name": "stderr",
     "output_type": "stream",
     "text": [
      "Loading required package: rstan\n",
      "Loading required package: ggplot2\n",
      "Loading required package: StanHeaders\n",
      "rstan (Version 2.16.2, packaged: 2017-07-03 09:24:58 UTC, GitRev: 2e1f913d3ca3)\n",
      "For execution on a local, multicore CPU with excess RAM we recommend calling\n",
      "rstan_options(auto_write = TRUE)\n",
      "options(mc.cores = parallel::detectCores())\n"
     ]
    }
   ],
   "source": [
    "require(rstan)\n",
    "\n",
    "db <- read.table(\"melanoma.txt\", TRUE)\n",
    "\n",
    "t_obs <- db[db$status == 1, \"y\"]\n",
    "x1_obs <- db[db$status == 1, \"x1\"]\n",
    "\n",
    "t_cen <- db[db$status != 1, \"y\"]\n",
    "x1_cen <- db[db$status != 1, \"x1\"]\n",
    "\n",
    "n_obs <- length(t_obs)\n",
    "n_cen <- length(t_cen)\n",
    "\n",
    "stan_code <- \"\n",
    "data {\n",
    "  int n_obs;\n",
    "  int n_cen;\n",
    "  real t_obs[n_obs];\n",
    "  real t_cen[n_cen];\n",
    "  real x1_obs[n_obs];\n",
    "  real x1_cen[n_cen];\n",
    "}\n",
    "parameters {\n",
    "  real beta0;\n",
    "  real beta1;\n",
    "  real beta2;\n",
    "  real<lower=0> mu;\n",
    "}\n",
    "transformed parameters {\n",
    "  real<lower=0, upper=1> inv_logit_beta1;\n",
    "  real<lower=0> exp_beta2;\n",
    "  real<lower=0> rho;\n",
    "\n",
    "  inv_logit_beta1 = inv_logit(beta1);\n",
    "  exp_beta2 = exp(beta2);\n",
    "  rho = exp(beta0);\n",
    "}\n",
    "model {\n",
    "  for (i in 1:n_cen) {\n",
    "    real t;\n",
    "    real p;\n",
    "    real lambda;\n",
    "\n",
    "    t = t_cen[i];\n",
    "    if (x1_cen[i] == 1) {\n",
    "      p = inv_logit_beta1;\n",
    "      lambda = exp_beta2;\n",
    "    } else {\n",
    "      p = 0.5;\n",
    "      lambda = 1.0;\n",
    "    }\n",
    "\n",
    "    target +=\n",
    "      (exp(mu*t) - 1) *\n",
    "      p * rho * exp(lambda*t) /\n",
    "      (exp(lambda*t) - exp(t*(lambda + mu)) - 1);\n",
    "  }\n",
    "\n",
    "  for (i in 1:n_obs) {\n",
    "    real t;\n",
    "    real p;\n",
    "    real lambda;\n",
    "\n",
    "    t = t_obs[i];\n",
    "    if (x1_obs[i] == 1) {\n",
    "      p = inv_logit_beta1;\n",
    "      lambda = exp_beta2;\n",
    "    } else {\n",
    "      p = 0.5;\n",
    "      lambda = 1.0;\n",
    "    }\n",
    "\n",
    "    target +=\n",
    "      (exp(mu*t) - 1) *\n",
    "      p * rho * exp(lambda*t) /\n",
    "      (exp(lambda*t) - exp(t*(lambda + mu)) - 1);\n",
    "\n",
    "    target +=\n",
    "      log(-lambda + mu*(exp(lambda*t) - 1) + (lambda + mu)*\n",
    "      (-exp(lambda*t) + exp(t*(lambda + mu)) + 1));\n",
    "\n",
    "    target += log(p);\n",
    "    target += log(rho);\n",
    "\n",
    "    target +=\n",
    "      - 2 * log(-exp(lambda*t) + exp(t*(lambda + mu)) + 1);\n",
    "  }\n",
    "\n",
    "  mu ~ cauchy(0, 2.5);\n",
    "  beta1 ~ normal(0, 2);\n",
    "  beta2 ~ normal(0, 2);\n",
    "}\n",
    "\"\n",
    "\n",
    "compiled_model <- rstan::stan_model(model_code=stan_code)\n",
    "capture.output(fit <- rstan::sampling(compiled_model, iter=1e5, chains=3, init_r=.01, cores=3, refresh=100,\n",
    "                                      control=list(adapt_delta=0.99, max_treedepth=20)), file='stan_log')"
   ]
  },
  {
   "cell_type": "code",
   "execution_count": 2,
   "metadata": {},
   "outputs": [
    {
     "data": {
      "text/plain": [
       "Inference for Stan model: 15775541c16dc9c5cc7dfa71e5cd1c26.\n",
       "3 chains, each with iter=1e+05; warmup=50000; thin=1; \n",
       "post-warmup draws per chain=50000, total post-warmup draws=150000.\n",
       "\n",
       "                   mean se_mean   sd    2.5%     25%     50%     75%   97.5%\n",
       "beta0              0.17    0.00 0.11   -0.05    0.09    0.17    0.24    0.38\n",
       "beta1              0.54    0.00 0.56   -0.23    0.18    0.45    0.79    1.89\n",
       "beta2             -0.48    0.00 0.23   -1.02   -0.61   -0.45   -0.32   -0.12\n",
       "mu                 0.10    0.00 0.02    0.07    0.09    0.10    0.11    0.13\n",
       "inv_logit_beta1    0.62    0.00 0.11    0.44    0.55    0.61    0.69    0.87\n",
       "exp_beta2          0.63    0.00 0.13    0.36    0.55    0.64    0.72    0.89\n",
       "rho                1.19    0.00 0.13    0.95    1.10    1.19    1.28    1.46\n",
       "lp__            -534.57    0.01 1.61 -538.69 -535.33 -534.19 -533.39 -532.60\n",
       "                n_eff Rhat\n",
       "beta0           61687    1\n",
       "beta1           38650    1\n",
       "beta2           48471    1\n",
       "mu              66018    1\n",
       "inv_logit_beta1 47944    1\n",
       "exp_beta2       55043    1\n",
       "rho             62788    1\n",
       "lp__            38539    1\n",
       "\n",
       "Samples were drawn using NUTS(diag_e) at Sun Feb 11 20:19:54 2018.\n",
       "For each parameter, n_eff is a crude measure of effective sample size,\n",
       "and Rhat is the potential scale reduction factor on split chains (at \n",
       "convergence, Rhat=1)."
      ]
     },
     "metadata": {},
     "output_type": "display_data"
    }
   ],
   "source": [
    "fit"
   ]
  },
  {
   "cell_type": "code",
   "execution_count": 3,
   "metadata": {},
   "outputs": [
    {
     "data": {
      "text/html": [
       "<table>\n",
       "<thead><tr><th></th><th scope=col>estimate</th><th scope=col>2.5%</th><th scope=col>97.5%</th></tr></thead>\n",
       "<tbody>\n",
       "\t<tr><th scope=row>beta0</th><td>0.16856514 </td><td>-0.05354433</td><td>0.3811647  </td></tr>\n",
       "\t<tr><th scope=row>beta1</th><td>0.54486955 </td><td>-0.23289689</td><td>1.8895071  </td></tr>\n",
       "\t<tr><th scope=row>rho</th><td>1.19087306 </td><td> 0.94786392</td><td>1.4639887  </td></tr>\n",
       "\t<tr><th scope=row>log_inv_beta1</th><td>0.62244840 </td><td> 0.44203754</td><td>0.8686993  </td></tr>\n",
       "\t<tr><th scope=row>exp_beta2</th><td>0.63333926 </td><td> 0.35887866</td><td>0.8880192  </td></tr>\n",
       "\t<tr><th scope=row>mu</th><td>0.09859869 </td><td> 0.07171876</td><td>0.1308422  </td></tr>\n",
       "</tbody>\n",
       "</table>\n"
      ],
      "text/latex": [
       "\\begin{tabular}{r|lll}\n",
       "  & estimate & 2.5\\% & 97.5\\%\\\\\n",
       "\\hline\n",
       "\tbeta0 & 0.16856514  & -0.05354433 & 0.3811647  \\\\\n",
       "\tbeta1 & 0.54486955  & -0.23289689 & 1.8895071  \\\\\n",
       "\trho & 1.19087306  &  0.94786392 & 1.4639887  \\\\\n",
       "\tlog\\_inv\\_beta1 & 0.62244840  &  0.44203754 & 0.8686993  \\\\\n",
       "\texp\\_beta2 & 0.63333926  &  0.35887866 & 0.8880192  \\\\\n",
       "\tmu & 0.09859869  &  0.07171876 & 0.1308422  \\\\\n",
       "\\end{tabular}\n"
      ],
      "text/markdown": [
       "\n",
       "| <!--/--> | estimate | 2.5% | 97.5% | \n",
       "|---|---|---|---|---|---|\n",
       "| beta0 | 0.16856514  | -0.05354433 | 0.3811647   | \n",
       "| beta1 | 0.54486955  | -0.23289689 | 1.8895071   | \n",
       "| rho | 1.19087306  |  0.94786392 | 1.4639887   | \n",
       "| log_inv_beta1 | 0.62244840  |  0.44203754 | 0.8686993   | \n",
       "| exp_beta2 | 0.63333926  |  0.35887866 | 0.8880192   | \n",
       "| mu | 0.09859869  |  0.07171876 | 0.1308422   | \n",
       "\n",
       "\n"
      ],
      "text/plain": [
       "              estimate   2.5%        97.5%    \n",
       "beta0         0.16856514 -0.05354433 0.3811647\n",
       "beta1         0.54486955 -0.23289689 1.8895071\n",
       "rho           1.19087306  0.94786392 1.4639887\n",
       "log_inv_beta1 0.62244840  0.44203754 0.8686993\n",
       "exp_beta2     0.63333926  0.35887866 0.8880192\n",
       "mu            0.09859869  0.07171876 0.1308422"
      ]
     },
     "metadata": {},
     "output_type": "display_data"
    }
   ],
   "source": [
    "res <- as.matrix(fit)\n",
    "\n",
    "beta0 <- res[, 'beta0']\n",
    "beta1 <- res[, 'beta1']\n",
    "rho <- res[, 'rho']\n",
    "log_inv_beta1 <- res[, 'inv_logit_beta1']\n",
    "exp_beta2 <- res[, 'exp_beta2']\n",
    "mu <- res[, 'mu']\n",
    "\n",
    "concat <- cbind(beta0, beta1, rho, log_inv_beta1, exp_beta2, mu)\n",
    "point_estimates <- colMeans(concat)\n",
    "results <- cbind(estimate=point_estimates, t(apply(concat, 2, function(x){quantile(x, c(0.025, 0.975))})))\n",
    "results"
   ]
  },
  {
   "cell_type": "markdown",
   "metadata": {},
   "source": [
    "### Optimization (MAP)"
   ]
  },
  {
   "cell_type": "code",
   "execution_count": 4,
   "metadata": {},
   "outputs": [
    {
     "name": "stdout",
     "output_type": "stream",
     "text": [
      "Initial log joint probability = -1282.39\n",
      "Optimization terminated normally: \n",
      "  Convergence detected: relative gradient magnitude is below tolerance\n"
     ]
    }
   ],
   "source": [
    "optim <- rstan::optimizing(compiled_model)"
   ]
  },
  {
   "cell_type": "code",
   "execution_count": 5,
   "metadata": {},
   "outputs": [
    {
     "data": {
      "text/html": [
       "<dl>\n",
       "\t<dt>$par</dt>\n",
       "\t\t<dd><dl class=dl-horizontal>\n",
       "\t<dt>beta0</dt>\n",
       "\t\t<dd>0.197602879659472</dd>\n",
       "\t<dt>beta1</dt>\n",
       "\t\t<dd>0.284662441926861</dd>\n",
       "\t<dt>beta2</dt>\n",
       "\t\t<dd>-0.370229305162741</dd>\n",
       "\t<dt>mu</dt>\n",
       "\t\t<dd>0.093563582912032</dd>\n",
       "\t<dt>inv_logit_beta1</dt>\n",
       "\t\t<dd>0.57068891110178</dd>\n",
       "\t<dt>exp_beta2</dt>\n",
       "\t\t<dd>0.690575959847571</dd>\n",
       "\t<dt>rho</dt>\n",
       "\t\t<dd>1.21847841516596</dd>\n",
       "</dl>\n",
       "</dd>\n",
       "\t<dt>$value</dt>\n",
       "\t\t<dd>-529.972683707071</dd>\n",
       "\t<dt>$return_code</dt>\n",
       "\t\t<dd>0</dd>\n",
       "</dl>\n"
      ],
      "text/latex": [
       "\\begin{description}\n",
       "\\item[\\$par] \\begin{description*}\n",
       "\\item[beta0] 0.197602879659472\n",
       "\\item[beta1] 0.284662441926861\n",
       "\\item[beta2] -0.370229305162741\n",
       "\\item[mu] 0.093563582912032\n",
       "\\item[inv\\textbackslash{}\\_logit\\textbackslash{}\\_beta1] 0.57068891110178\n",
       "\\item[exp\\textbackslash{}\\_beta2] 0.690575959847571\n",
       "\\item[rho] 1.21847841516596\n",
       "\\end{description*}\n",
       "\n",
       "\\item[\\$value] -529.972683707071\n",
       "\\item[\\$return\\_code] 0\n",
       "\\end{description}\n"
      ],
      "text/markdown": [
       "$par\n",
       ":   beta0\n",
       ":   0.197602879659472beta1\n",
       ":   0.284662441926861beta2\n",
       ":   -0.370229305162741mu\n",
       ":   0.093563582912032inv_logit_beta1\n",
       ":   0.57068891110178exp_beta2\n",
       ":   0.690575959847571rho\n",
       ":   1.21847841516596\n",
       "\n",
       "\n",
       "$value\n",
       ":   -529.972683707071\n",
       "$return_code\n",
       ":   0\n",
       "\n",
       "\n"
      ],
      "text/plain": [
       "$par\n",
       "          beta0           beta1           beta2              mu inv_logit_beta1 \n",
       "     0.19760288      0.28466244     -0.37022931      0.09356358      0.57068891 \n",
       "      exp_beta2             rho \n",
       "     0.69057596      1.21847842 \n",
       "\n",
       "$value\n",
       "[1] -529.9727\n",
       "\n",
       "$return_code\n",
       "[1] 0\n"
      ]
     },
     "metadata": {},
     "output_type": "display_data"
    }
   ],
   "source": [
    "optim"
   ]
  },
  {
   "cell_type": "code",
   "execution_count": 10,
   "metadata": {},
   "outputs": [
    {
     "data": {
      "text/html": [
       "<strong>png:</strong> 2"
      ],
      "text/latex": [
       "\\textbf{png:} 2"
      ],
      "text/markdown": [
       "**png:** 2"
      ],
      "text/plain": [
       "png \n",
       "  2 "
      ]
     },
     "metadata": {},
     "output_type": "display_data"
    }
   ],
   "source": [
    "# PDF of the survival function against KM\n",
    "\n",
    "long_time_sample <- function(lambda, mu, rho, p) {\n",
    "\n",
    "  yule_start <- function(lambda_, d) {\n",
    "    self = list()\n",
    "    self$lambda_ = lambda_\n",
    "    self$upsilon = rexp(d, lambda_)\n",
    "    return(self)\n",
    "  }\n",
    "\n",
    "  yule_get_next <- function(self) {\n",
    "    current_min_index = which.min(self$upsilon)\n",
    "    current_min = self$upsilon[current_min_index]\n",
    "\n",
    "    self$upsilon[current_min_index] = current_min + rexp(1, self$lambda_)\n",
    "    self$upsilon[length(self$upsilon) + 1] = current_min + rexp(1, self$lambda_)\n",
    "\n",
    "    self$current_min = current_min\n",
    "    return(self)\n",
    "  }\n",
    "\n",
    "  m <- rpois(1, rho)\n",
    "  d <- rbinom(1, m, p)\n",
    "\n",
    "  if (d == 0) {\n",
    "    return(Inf)\n",
    "  }\n",
    "\n",
    "  v <- d\n",
    "\n",
    "  process <- yule_start(lambda, d)\n",
    "  new_t <- 0\n",
    "  y <- rexp(d, mu)\n",
    "\n",
    "  while (TRUE) {\n",
    "    process <- yule_get_next(process)\n",
    "    new_t <- process$current_min\n",
    "\n",
    "    # A previous cell got promoted\n",
    "    if (min(y) < new_t)\n",
    "      return(min(y))\n",
    "\n",
    "    new_y <- rexp(1, mu)\n",
    "\n",
    "    # This cell got promoted\n",
    "    if (new_y < new_t)\n",
    "      return(new_t)\n",
    "\n",
    "    y <- c(y, new_y)\n",
    "    v <- v+1\n",
    "  }\n",
    "}\n",
    "\n",
    "# Em seguida escolhemos os valores dos parametros:\n",
    "\n",
    "lambda <- c(1, point_estimates[\"exp_beta2\"])\n",
    "mu <- point_estimates[\"mu\"]\n",
    "p <- c(0.5, point_estimates[\"log_inv_beta1\"])\n",
    "rho <- point_estimates[\"rho\"]\n",
    "\n",
    "observations <- censoring_ind <- list()\n",
    "for (i in 1:length(p)) {\n",
    "  observations[[i]] <- replicate(1e4, long_time_sample(lambda[i], mu, rho, p[i]))\n",
    "  censoring_ind[[i]] <- (observations[[i]] < Inf)\n",
    "}\n",
    "\n",
    "colors <- c(\"blue\", \"red\", \"forestgreen\", \"black\")\n",
    "\n",
    "#Por fim, a sobrevivencia empirica (i.e.: Kaplan-Meier)\n",
    "require(survival)\n",
    "pdf(\"surv.pdf\",width=7,height=5)\n",
    "\n",
    "plot(survfit(Surv(db$y[db$x1 == 0], db$status[db$x1 == 0])~1, conf.type=\"none\"), lty=3, lwd=2.2,\n",
    "     col=colors[3], ylim=c(0.45, 1), xlim=c(0,7), xlab=\"Time\", ylab=\"Survival function\")\n",
    "lines(survfit(Surv(db$y[db$x1 == 1], db$status[db$x1 == 1])~1, conf.type=\"none\"), lty=4, lwd=2.2, col=colors[4])\n",
    "lines(survfit(Surv(observations[[1]], censoring_ind[[1]])~1, conf.type=\"none\"), lty=1, lwd=2.2, col=colors[1])\n",
    "lines(survfit(Surv(observations[[2]], censoring_ind[[2]])~1, conf.type=\"none\"), lty=2, lwd=2.2, col=colors[2])\n",
    "\n",
    "legend_names <- c(\n",
    "                  \"Mean posterior for group without treatment\",\n",
    "                  \"Mean posterior for group with treatment\",\n",
    "                  \"KM for group without treatment\",\n",
    "                  \"KM for group with treatment\"\n",
    "                 )\n",
    "legend(\"topright\", legend=legend_names, cex=0.8, col=colors, inset=.001,\n",
    "      lty=1:4, lwd=2.2, bty=\"n\")\n",
    "dev.off()"
   ]
  },
  {
   "cell_type": "code",
   "execution_count": 9,
   "metadata": {},
   "outputs": [
    {
     "data": {
      "text/html": [
       "<strong>png:</strong> 2"
      ],
      "text/latex": [
       "\\textbf{png:} 2"
      ],
      "text/markdown": [
       "**png:** 2"
      ],
      "text/plain": [
       "png \n",
       "  2 "
      ]
     },
     "metadata": {},
     "output_type": "display_data"
    }
   ],
   "source": [
    "pdf(\"posterior.pdf\", width=7, height=5)\n",
    "\n",
    "colors <- c(\"blue\", \"red\", \"brown\", \"black\", \"yellow\", \"green\")\n",
    "\n",
    "plot(density(dpois(0, res[,\"rho\"] * 0.5), \"SJ\"), col=colors[1], lty=1, lwd=2.1,\n",
    "      ylim=c(.05, 26), xlim=c(0,1.6), main=\"Posterior density curves\", xlab='', log='y') #cure for non-treatment\n",
    "lines(density(dpois(0, res[,\"rho\"] * res[,\"inv_logit_beta1\"]), \"SJ\"), col=colors[2], lty=2, lwd=2.1) #cure for treatment\n",
    "\n",
    "lines(density(res[,\"inv_logit_beta1\"], \"SJ\"), col=colors[3], lty=3, lwd=2.1)\n",
    "lines(density(res[,\"exp_beta2\"], \"SJ\"), col=colors[4], lty=1, lwd=2.8) #lambda for treatment\n",
    "\n",
    "lines(density(res[,\"rho\"], \"SJ\"), col=colors[5], lty=2, lwd=2.8)\n",
    "lines(density(res[,\"mu\"], \"SJ\"), col=colors[6], lty=3, lwd=2.8)\n",
    "\n",
    "legend_names <- c(\n",
    "                  \"Cure rate without treatment\",\n",
    "                  \"Cure rate with treatment\", \n",
    "    \n",
    "                  expression(paste(p, \" for treatment group\")),\n",
    "                  expression(paste(lambda, \" for treatment group\")),\n",
    "\n",
    "                  expression(rho),\n",
    "                  expression(mu)\n",
    "                 )\n",
    "legend(\"topright\", legend=legend_names, cex=0.8, col=colors, inset=.001,\n",
    "       lty=1:3, lwd=c(1.1, 1.1, 1.1, 1.8, 1.8, 1.8) + 1,\n",
    "       bty=\"n\")\n",
    "\n",
    "dev.off()"
   ]
  },
  {
   "cell_type": "code",
   "execution_count": null,
   "metadata": {},
   "outputs": [],
   "source": []
  }
 ],
 "metadata": {
  "kernelspec": {
   "display_name": "R",
   "language": "R",
   "name": "ir"
  },
  "language_info": {
   "codemirror_mode": "r",
   "file_extension": ".r",
   "mimetype": "text/x-r-source",
   "name": "R",
   "pygments_lexer": "r",
   "version": "3.4.1"
  }
 },
 "nbformat": 4,
 "nbformat_minor": 2
}
